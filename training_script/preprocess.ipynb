{
  "cells": [
    {
      "cell_type": "code",
      "execution_count": null,
      "metadata": {
        "id": "u2cqTyfnIP0r"
      },
      "outputs": [],
      "source": [
        "import cv2\n",
        "import os\n",
        "import random\n",
        "import shutil"
      ]
    },
    {
      "cell_type": "code",
      "execution_count": null,
      "metadata": {
        "id": "INqi836dzp-Q"
      },
      "outputs": [],
      "source": [
        "# Read video and Extract Frames\n",
        "\n",
        "# Function to extract frames\n",
        "def FrameCapture(path):\n",
        "\n",
        "\t# Path to video file\n",
        "\tvidObj = cv2.VideoCapture(path)\n",
        "\n",
        "\t# Used as counter variable\n",
        "\tcount = 0\n",
        "\n",
        "\t# checks whether frames were extracted\n",
        "\tsuccess = 1\n",
        "\n",
        "\twhile success:\n",
        "\t\t# function extract frames\n",
        "\t\tsuccess, image = vidObj.read()\n",
        "\n",
        "\t\t# Saves the frames with frame-count\n",
        "\t\tcv2.imwrite(\"path/to/frame/folder/frame%d.jpg\" % count, image)\n",
        "\n",
        "\t\tcount += 1\n",
        "\n",
        "if __name__ == '__main__':\n",
        "\tFrameCapture('path/to/sample.MP4')\n"
      ]
    },
    {
      "cell_type": "code",
      "execution_count": null,
      "metadata": {
        "id": "mfmUU3lA1s26"
      },
      "outputs": [],
      "source": [
        "# Rename file\n",
        "\n",
        "def rename_files(folder_path):\n",
        "    # Check if the folder exists\n",
        "    if not os.path.isdir(folder_path):\n",
        "        print(\"Folder does not exist.\")\n",
        "        return\n",
        "\n",
        "    # Get list of files in the folder\n",
        "    files = os.listdir(folder_path)\n",
        "    # Filter out only the image files\n",
        "    image_files = [file for file in files if file.lower().endswith('.jpg')]\n",
        "\n",
        "    # Rename each image file\n",
        "    for i, file in enumerate(image_files, start=1):\n",
        "        new_name = f\"0031_{i}.jpg\"\n",
        "        old_path = os.path.join(folder_path, file)\n",
        "        new_path = os.path.join(folder_path, new_name)\n",
        "        os.rename(old_path, new_path)\n",
        "        print(f\"Renamed '{file}' to '{new_name}'\")\n",
        "\n",
        "# Image file path\n",
        "folder_path = 'path/to/folder/images'\n",
        "rename_files(folder_path)\n"
      ]
    },
    {
      "cell_type": "code",
      "execution_count": null,
      "metadata": {
        "id": "jg7Q2tu0xRoi"
      },
      "outputs": [],
      "source": [
        "# Split the dataset into train, valid and test folder\n",
        "\n",
        "def split_dataset(source_directories, train_dir, valid_dir, test_dir, num_samples=110):\n",
        "    # Iterate over each source directory\n",
        "    for source_directory in source_directories:\n",
        "        # Get list of filenames in the source directory\n",
        "        filenames = os.listdir(source_directory)\n",
        "        # Randomly select a subset of filenames\n",
        "        selected_files = random.sample(filenames, num_samples)\n",
        "\n",
        "        # Divide selected files into train, validation, and test sets\n",
        "        train_samples = selected_files[:80]    # First 80 files for training\n",
        "        valid_samples = selected_files[80:100] # Next 20 files for validation\n",
        "        test_samples = selected_files[100:]    # Remaining files for testing\n",
        "\n",
        "        # Copy train samples to train directory\n",
        "        for filename in train_samples:\n",
        "            shutil.copy(os.path.join(source_directory, filename), os.path.join(train_dir, \"images\"))\n",
        "        # Copy validation samples to validation directory\n",
        "        for filename in valid_samples:\n",
        "            shutil.copy(os.path.join(source_directory, filename), os.path.join(valid_dir, \"images\"))\n",
        "        # Copy test samples to test directory\n",
        "        for filename in test_samples:\n",
        "            shutil.copy(os.path.join(source_directory, filename), os.path.join(test_dir, \"images\"))\n",
        "\n",
        "# Define your source directories and destination directories\n",
        "source_directories = ['path',\n",
        "                      'path',\n",
        "                      'path',\n",
        "                      'path']\n",
        "\n",
        "train_dir = '/train'\n",
        "valid_dir = '/valid'\n",
        "test_dir = '/test'\n",
        "\n",
        "# Create train, valid, test directories if they don't exist\n",
        "for directory in [train_dir, valid_dir, test_dir]:\n",
        "    os.makedirs(os.path.join(directory, \"images\"), exist_ok=True)\n",
        "\n",
        "# Call the function to split the dataset\n",
        "split_dataset(source_directories, train_dir, valid_dir, test_dir)\n"
      ]
    }
  ],
  "metadata": {
    "colab": {
      "provenance": []
    },
    "kernelspec": {
      "display_name": "Python 3",
      "name": "python3"
    },
    "language_info": {
      "name": "python"
    }
  },
  "nbformat": 4,
  "nbformat_minor": 0
}
